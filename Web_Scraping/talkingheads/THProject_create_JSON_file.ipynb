{
 "cells": [
  {
   "cell_type": "markdown",
   "metadata": {},
   "source": [
    "### Create JSON file\n",
    "The next step is taking the text files that were created from scraping the text  \n",
    "from the web pages and combining the titles with the lyrics to create a JSON file.  \n",
    "\n",
    "This JSON file will be used to upload to a MongoDB database to store the data and  \n",
    "provide an easy way to query and use the data in other applications.\n",
    "\n",
    "I deleted some duplicate songs from the original text files and changed the file names  \n",
    "to reflect that. Both files are read for further action."
   ]
  },
  {
   "cell_type": "code",
   "execution_count": null,
   "metadata": {
    "collapsed": true
   },
   "outputs": [],
   "source": [
    "import json\n",
    "import re"
   ]
  },
  {
   "cell_type": "code",
   "execution_count": null,
   "metadata": {
    "collapsed": true
   },
   "outputs": [],
   "source": [
    "lyrics = open('H:\\\\My Documents\\\\Work\\\\datasets\\\\text\\\\TH_lyricsPR.txt', encoding='UTF-8')\n",
    "song_lyrics = lyrics.read()"
   ]
  },
  {
   "cell_type": "code",
   "execution_count": null,
   "metadata": {
    "collapsed": true
   },
   "outputs": [],
   "source": [
    "titles = open('H:\\\\My Documents\\\\Work\\\\datasets\\\\text\\\\TH_titlesPR.txt', encoding='UTF-8')\n",
    "song_titles = titles.read()"
   ]
  },
  {
   "cell_type": "markdown",
   "metadata": {},
   "source": [
    "#### Title processing\n",
    "I needed to do a little work on the titles as all of the titles had the word \"lyrics\"  \n",
    "following and I wanted to remove that. I split each title at the delimiter and joined  \n",
    "them into a string. From there, I used a regular expression to gather all of the characters  \n",
    "before the word \"lyrics\" which provided a list of all song titles."
   ]
  },
  {
   "cell_type": "code",
   "execution_count": null,
   "metadata": {
    "collapsed": true
   },
   "outputs": [],
   "source": [
    "titles_list = song_titles.split('|')"
   ]
  },
  {
   "cell_type": "code",
   "execution_count": null,
   "metadata": {
    "collapsed": true
   },
   "outputs": [],
   "source": [
    "new_items = ''.join(titles_list)\n",
    "new_titles = re.findall('(.*?) lyrics', new_items)"
   ]
  },
  {
   "cell_type": "markdown",
   "metadata": {},
   "source": [
    "#### Lyrics processing\n",
    "Processing the song lyrics needed less work. I simply split the lyrics file at the delimiter  \n",
    "which resulted in a list of song lyrics."
   ]
  },
  {
   "cell_type": "code",
   "execution_count": null,
   "metadata": {
    "collapsed": true
   },
   "outputs": [],
   "source": [
    "lyrics_list = song_lyrics.split('|')"
   ]
  },
  {
   "cell_type": "markdown",
   "metadata": {},
   "source": [
    "#### JSON file creation\n",
    "A JSON file resembles a list of python dictionaries so the file creation is not difficult.  \n",
    "I created an empty list and then iterated over the title and lyrics files creating the  \n",
    "dictionaries and then appending them to the empty list. Finally, this list was written to the JSON file."
   ]
  },
  {
   "cell_type": "code",
   "execution_count": null,
   "metadata": {
    "collapsed": true
   },
   "outputs": [],
   "source": [
    "songs_final = []"
   ]
  },
  {
   "cell_type": "code",
   "execution_count": null,
   "metadata": {
    "collapsed": true
   },
   "outputs": [],
   "source": [
    "for x in range(len(new_titles)):\n",
    "    songs_final.append({'Title': new_titles[x], 'Lyrics': lyrics_list[x]})"
   ]
  },
  {
   "cell_type": "code",
   "execution_count": null,
   "metadata": {
    "collapsed": true
   },
   "outputs": [],
   "source": [
    "with open('C:\\\\data_mongo\\\\TH_songs.json', 'w', encoding='UTF-8') as z:\n",
    "    json.dump(songs_final, z, ensure_ascii=False)"
   ]
  },
  {
   "cell_type": "code",
   "execution_count": null,
   "metadata": {
    "collapsed": true
   },
   "outputs": [],
   "source": []
  }
 ],
 "metadata": {
  "anaconda-cloud": {},
  "kernelspec": {
   "display_name": "Python [conda root]",
   "language": "python",
   "name": "conda-root-py"
  },
  "language_info": {
   "codemirror_mode": {
    "name": "ipython",
    "version": 3
   },
   "file_extension": ".py",
   "mimetype": "text/x-python",
   "name": "python",
   "nbconvert_exporter": "python",
   "pygments_lexer": "ipython3",
   "version": "3.5.5"
  }
 },
 "nbformat": 4,
 "nbformat_minor": 2
}
