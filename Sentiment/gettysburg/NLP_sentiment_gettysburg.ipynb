{
 "cells": [
  {
   "cell_type": "markdown",
   "metadata": {},
   "source": [
    "### Sentiment Analysis Gettysburg Address example\n",
    "This is an example of sentiment analysis using the Gettysburg Address as the text.  \n",
    "While this is one of the most noteworthy Presidential speeches in American history,  \n",
    "the text is very short and is good material for testing."
   ]
  },
  {
   "cell_type": "code",
   "execution_count": 50,
   "metadata": {},
   "outputs": [],
   "source": [
    "import warnings\n",
    "from pathlib import Path\n",
    "from nltk.sentiment.vader import SentimentIntensityAnalyzer\n",
    "from nltk.tokenize import PunktSentenceTokenizer\n",
    "import pandas as pd"
   ]
  },
  {
   "cell_type": "code",
   "execution_count": 51,
   "metadata": {
    "collapsed": true
   },
   "outputs": [],
   "source": [
    "warnings.filterwarnings('ignore')"
   ]
  },
  {
   "cell_type": "code",
   "execution_count": 52,
   "metadata": {
    "collapsed": true
   },
   "outputs": [],
   "source": [
    "data_source = Path('H:/My Documents/Work/pythondata/')\n",
    "data_file = data_source / 'getty.txt'\n",
    "\n",
    "f = open(str(data_file), encoding='latin-1')\n",
    "raw = f.read()"
   ]
  },
  {
   "cell_type": "code",
   "execution_count": 53,
   "metadata": {
    "collapsed": true
   },
   "outputs": [],
   "source": [
    "# prep text by tokenizing sentences\n",
    "raw = raw.lower()\n",
    "sent_tokenizer = PunktSentenceTokenizer()\n",
    "sentences = sent_tokenizer.tokenize(raw)"
   ]
  },
  {
   "cell_type": "code",
   "execution_count": 54,
   "metadata": {},
   "outputs": [
    {
     "data": {
      "text/plain": [
       "['four score and seven years ago our fathers brought forth on this continent, a new nation, conceived in liberty, and dedicated to the proposition that all men are created equal.',\n",
       " 'now we are engaged in a great civil war, testing whether that nation, or any nation so conceived and so dedicated, can long endure.',\n",
       " 'we are met on a great battle-field of that war.',\n",
       " 'we have come to dedicate a portion of that field, as a final resting place for those who here gave their lives that that nation might live.',\n",
       " 'it is altogether fitting and proper that we should do this.',\n",
       " 'but, in a larger sense, we can not dedicate -- we can not consecrate -- we can not hallow -- this ground.',\n",
       " 'the brave men, living and dead, who struggled here, have consecrated it, far above our poor power to add or detract.',\n",
       " 'the world will little note, nor long remember what we say here, but it can never forget what they did here.',\n",
       " 'it is for us the living, rather, to be dedicated here to the unfinished work which they who fought here have thus far so nobly advanced.',\n",
       " 'it is rather for us to be here dedicated to the great task remaining before us -- that from these honored dead we take increased devotion to that cause for which they gave the last full measure of devotion -- that we here highly resolve that these dead shall not have died in vain -- that this nation, under god, shall have a new birth of freedom -- and that government of the people, by the people, for the people, shall not perish from the earth.']"
      ]
     },
     "execution_count": 54,
     "metadata": {},
     "output_type": "execute_result"
    }
   ],
   "source": [
    "# display the text as tokenized sentences\n",
    "sentences"
   ]
  },
  {
   "cell_type": "code",
   "execution_count": 55,
   "metadata": {},
   "outputs": [
    {
     "data": {
      "text/plain": [
       "[{'compound': 0.8126, 'neg': 0.0, 'neu': 0.756, 'pos': 0.244},\n",
       " {'compound': 0.7761, 'neg': 0.116, 'neu': 0.566, 'pos': 0.318},\n",
       " {'compound': 0.0516, 'neg': 0.26, 'neu': 0.467, 'pos': 0.273},\n",
       " {'compound': 0.0, 'neg': 0.0, 'neu': 1.0, 'pos': 0.0},\n",
       " {'compound': 0.0, 'neg': 0.0, 'neu': 1.0, 'pos': 0.0},\n",
       " {'compound': 0.0, 'neg': 0.0, 'neu': 1.0, 'pos': 0.0},\n",
       " {'compound': -0.7506, 'neg': 0.325, 'neu': 0.563, 'pos': 0.113},\n",
       " {'compound': 0.2498, 'neg': 0.0, 'neu': 0.909, 'pos': 0.091},\n",
       " {'compound': 0.4549, 'neg': 0.075, 'neu': 0.752, 'pos': 0.173},\n",
       " {'compound': 0.9566, 'neg': 0.1, 'neu': 0.629, 'pos': 0.272}]"
      ]
     },
     "execution_count": 55,
     "metadata": {},
     "output_type": "execute_result"
    }
   ],
   "source": [
    "# apply sentiment analyizer and save results in a list of dictionaries\n",
    "#scores = []\n",
    "sia = SentimentIntensityAnalyzer()\n",
    "scores = [sia.polarity_scores(sent) for sent in sentences]\n",
    "scores"
   ]
  },
  {
   "cell_type": "markdown",
   "metadata": {},
   "source": [
    "#### Note\n",
    "I used the VADER (Valence Aware Dictionary and sEntiment Reasoner) lexicon which produces  \n",
    "scores for positive, neutral, negative and a compound sentiment score. The compound score is  \n",
    "a summation of the valence scores normalized between -1 and +1. The other scores are  \n",
    "a proportion of text in each category.\n",
    "\n",
    "While this lexicon is tuned to work well for social media, it also provides very good results for other texts."
   ]
  },
  {
   "cell_type": "code",
   "execution_count": 56,
   "metadata": {
    "collapsed": true
   },
   "outputs": [],
   "source": [
    "# create panda dataframes of the original sentences and the sentiment scores\n",
    "sentiment = pd.DataFrame(scores)\n",
    "text = pd.DataFrame(sentences)"
   ]
  },
  {
   "cell_type": "code",
   "execution_count": 57,
   "metadata": {
    "collapsed": true
   },
   "outputs": [],
   "source": [
    "# combine the sentence and sentiment dataframes into a single dataframe\n",
    "data = pd.concat([text, sentiment], axis=1)"
   ]
  },
  {
   "cell_type": "code",
   "execution_count": 58,
   "metadata": {},
   "outputs": [
    {
     "data": {
      "text/html": [
       "<div>\n",
       "<style scoped>\n",
       "    .dataframe tbody tr th:only-of-type {\n",
       "        vertical-align: middle;\n",
       "    }\n",
       "\n",
       "    .dataframe tbody tr th {\n",
       "        vertical-align: top;\n",
       "    }\n",
       "\n",
       "    .dataframe thead th {\n",
       "        text-align: right;\n",
       "    }\n",
       "</style>\n",
       "<table border=\"1\" class=\"dataframe\">\n",
       "  <thead>\n",
       "    <tr style=\"text-align: right;\">\n",
       "      <th></th>\n",
       "      <th>0</th>\n",
       "      <th>compound</th>\n",
       "      <th>neg</th>\n",
       "      <th>neu</th>\n",
       "      <th>pos</th>\n",
       "    </tr>\n",
       "  </thead>\n",
       "  <tbody>\n",
       "    <tr>\n",
       "      <th>0</th>\n",
       "      <td>four score and seven years ago our fathers bro...</td>\n",
       "      <td>0.8126</td>\n",
       "      <td>0.000</td>\n",
       "      <td>0.756</td>\n",
       "      <td>0.244</td>\n",
       "    </tr>\n",
       "    <tr>\n",
       "      <th>1</th>\n",
       "      <td>now we are engaged in a great civil war, testi...</td>\n",
       "      <td>0.7761</td>\n",
       "      <td>0.116</td>\n",
       "      <td>0.566</td>\n",
       "      <td>0.318</td>\n",
       "    </tr>\n",
       "    <tr>\n",
       "      <th>2</th>\n",
       "      <td>we are met on a great battle-field of that war.</td>\n",
       "      <td>0.0516</td>\n",
       "      <td>0.260</td>\n",
       "      <td>0.467</td>\n",
       "      <td>0.273</td>\n",
       "    </tr>\n",
       "    <tr>\n",
       "      <th>3</th>\n",
       "      <td>we have come to dedicate a portion of that fie...</td>\n",
       "      <td>0.0000</td>\n",
       "      <td>0.000</td>\n",
       "      <td>1.000</td>\n",
       "      <td>0.000</td>\n",
       "    </tr>\n",
       "    <tr>\n",
       "      <th>4</th>\n",
       "      <td>it is altogether fitting and proper that we sh...</td>\n",
       "      <td>0.0000</td>\n",
       "      <td>0.000</td>\n",
       "      <td>1.000</td>\n",
       "      <td>0.000</td>\n",
       "    </tr>\n",
       "    <tr>\n",
       "      <th>5</th>\n",
       "      <td>but, in a larger sense, we can not dedicate --...</td>\n",
       "      <td>0.0000</td>\n",
       "      <td>0.000</td>\n",
       "      <td>1.000</td>\n",
       "      <td>0.000</td>\n",
       "    </tr>\n",
       "    <tr>\n",
       "      <th>6</th>\n",
       "      <td>the brave men, living and dead, who struggled ...</td>\n",
       "      <td>-0.7506</td>\n",
       "      <td>0.325</td>\n",
       "      <td>0.563</td>\n",
       "      <td>0.113</td>\n",
       "    </tr>\n",
       "    <tr>\n",
       "      <th>7</th>\n",
       "      <td>the world will little note, nor long remember ...</td>\n",
       "      <td>0.2498</td>\n",
       "      <td>0.000</td>\n",
       "      <td>0.909</td>\n",
       "      <td>0.091</td>\n",
       "    </tr>\n",
       "    <tr>\n",
       "      <th>8</th>\n",
       "      <td>it is for us the living, rather, to be dedicat...</td>\n",
       "      <td>0.4549</td>\n",
       "      <td>0.075</td>\n",
       "      <td>0.752</td>\n",
       "      <td>0.173</td>\n",
       "    </tr>\n",
       "    <tr>\n",
       "      <th>9</th>\n",
       "      <td>it is rather for us to be here dedicated to th...</td>\n",
       "      <td>0.9566</td>\n",
       "      <td>0.100</td>\n",
       "      <td>0.629</td>\n",
       "      <td>0.272</td>\n",
       "    </tr>\n",
       "  </tbody>\n",
       "</table>\n",
       "</div>"
      ],
      "text/plain": [
       "                                                   0  compound    neg    neu  \\\n",
       "0  four score and seven years ago our fathers bro...    0.8126  0.000  0.756   \n",
       "1  now we are engaged in a great civil war, testi...    0.7761  0.116  0.566   \n",
       "2    we are met on a great battle-field of that war.    0.0516  0.260  0.467   \n",
       "3  we have come to dedicate a portion of that fie...    0.0000  0.000  1.000   \n",
       "4  it is altogether fitting and proper that we sh...    0.0000  0.000  1.000   \n",
       "5  but, in a larger sense, we can not dedicate --...    0.0000  0.000  1.000   \n",
       "6  the brave men, living and dead, who struggled ...   -0.7506  0.325  0.563   \n",
       "7  the world will little note, nor long remember ...    0.2498  0.000  0.909   \n",
       "8  it is for us the living, rather, to be dedicat...    0.4549  0.075  0.752   \n",
       "9  it is rather for us to be here dedicated to th...    0.9566  0.100  0.629   \n",
       "\n",
       "     pos  \n",
       "0  0.244  \n",
       "1  0.318  \n",
       "2  0.273  \n",
       "3  0.000  \n",
       "4  0.000  \n",
       "5  0.000  \n",
       "6  0.113  \n",
       "7  0.091  \n",
       "8  0.173  \n",
       "9  0.272  "
      ]
     },
     "execution_count": 58,
     "metadata": {},
     "output_type": "execute_result"
    }
   ],
   "source": [
    "# display the dataframe\n",
    "data"
   ]
  },
  {
   "cell_type": "code",
   "execution_count": 59,
   "metadata": {
    "scrolled": true
   },
   "outputs": [],
   "source": [
    "# rename and reorganize the dataframe columns\n",
    "data = data.ix[:, (0, 'compound', 'pos', 'neu', 'neg')]\n",
    "data.columns = ['Sentences', 'Compound', 'Positive', 'Neutral', 'Negative']"
   ]
  },
  {
   "cell_type": "code",
   "execution_count": 60,
   "metadata": {
    "scrolled": false
   },
   "outputs": [
    {
     "data": {
      "text/html": [
       "<div>\n",
       "<style scoped>\n",
       "    .dataframe tbody tr th:only-of-type {\n",
       "        vertical-align: middle;\n",
       "    }\n",
       "\n",
       "    .dataframe tbody tr th {\n",
       "        vertical-align: top;\n",
       "    }\n",
       "\n",
       "    .dataframe thead th {\n",
       "        text-align: right;\n",
       "    }\n",
       "</style>\n",
       "<table border=\"1\" class=\"dataframe\">\n",
       "  <thead>\n",
       "    <tr style=\"text-align: right;\">\n",
       "      <th></th>\n",
       "      <th>Sentences</th>\n",
       "      <th>Compound</th>\n",
       "      <th>Positive</th>\n",
       "      <th>Neutral</th>\n",
       "      <th>Negative</th>\n",
       "    </tr>\n",
       "  </thead>\n",
       "  <tbody>\n",
       "    <tr>\n",
       "      <th>0</th>\n",
       "      <td>four score and seven years ago our fathers bro...</td>\n",
       "      <td>0.8126</td>\n",
       "      <td>0.244</td>\n",
       "      <td>0.756</td>\n",
       "      <td>0.000</td>\n",
       "    </tr>\n",
       "    <tr>\n",
       "      <th>1</th>\n",
       "      <td>now we are engaged in a great civil war, testi...</td>\n",
       "      <td>0.7761</td>\n",
       "      <td>0.318</td>\n",
       "      <td>0.566</td>\n",
       "      <td>0.116</td>\n",
       "    </tr>\n",
       "    <tr>\n",
       "      <th>2</th>\n",
       "      <td>we are met on a great battle-field of that war.</td>\n",
       "      <td>0.0516</td>\n",
       "      <td>0.273</td>\n",
       "      <td>0.467</td>\n",
       "      <td>0.260</td>\n",
       "    </tr>\n",
       "    <tr>\n",
       "      <th>3</th>\n",
       "      <td>we have come to dedicate a portion of that fie...</td>\n",
       "      <td>0.0000</td>\n",
       "      <td>0.000</td>\n",
       "      <td>1.000</td>\n",
       "      <td>0.000</td>\n",
       "    </tr>\n",
       "    <tr>\n",
       "      <th>4</th>\n",
       "      <td>it is altogether fitting and proper that we sh...</td>\n",
       "      <td>0.0000</td>\n",
       "      <td>0.000</td>\n",
       "      <td>1.000</td>\n",
       "      <td>0.000</td>\n",
       "    </tr>\n",
       "  </tbody>\n",
       "</table>\n",
       "</div>"
      ],
      "text/plain": [
       "                                           Sentences  Compound  Positive  \\\n",
       "0  four score and seven years ago our fathers bro...    0.8126     0.244   \n",
       "1  now we are engaged in a great civil war, testi...    0.7761     0.318   \n",
       "2    we are met on a great battle-field of that war.    0.0516     0.273   \n",
       "3  we have come to dedicate a portion of that fie...    0.0000     0.000   \n",
       "4  it is altogether fitting and proper that we sh...    0.0000     0.000   \n",
       "\n",
       "   Neutral  Negative  \n",
       "0    0.756     0.000  \n",
       "1    0.566     0.116  \n",
       "2    0.467     0.260  \n",
       "3    1.000     0.000  \n",
       "4    1.000     0.000  "
      ]
     },
     "execution_count": 60,
     "metadata": {},
     "output_type": "execute_result"
    }
   ],
   "source": [
    "# display of the cleaned up final dataframe with sentences and sentiment polarity scores\n",
    "data.head()"
   ]
  },
  {
   "cell_type": "code",
   "execution_count": null,
   "metadata": {
    "collapsed": true
   },
   "outputs": [],
   "source": [
    "# write dataframe to a csv file\n",
    "data.to_csv('H:\\\\My Documents\\\\Work\\\\pythondata\\\\getty_sentiment.csv')"
   ]
  },
  {
   "cell_type": "markdown",
   "metadata": {},
   "source": [
    "#### Summary\n",
    "The text covers 10 sentences, some fairly long but overall it displays a mostly positive  \n",
    "outlook during one of the most difficult periods of American history. The first two and final  \n",
    "sentences provide a positive and uplifting attitude. Notably the 7th sentence(index \\#6)  \n",
    "has the highest negative sentiment as it mentions the battlefield.\n",
    "\n",
    "\n",
    "\n",
    "\n",
    "https://github.com/cjhutto/vaderSentiment  \n",
    "Hutto, C.J. & Gilbert, E.E. (2014). VADER: A Parsimonious Rule-based Model for Sentiment Analysis of Social Media Text. Eighth International Conference on Weblogs and Social Media (ICWSM-14). Ann Arbor, MI, June 2014."
   ]
  },
  {
   "cell_type": "code",
   "execution_count": null,
   "metadata": {
    "collapsed": true
   },
   "outputs": [],
   "source": []
  }
 ],
 "metadata": {
  "anaconda-cloud": {},
  "kernelspec": {
   "display_name": "Python [conda root]",
   "language": "python",
   "name": "conda-root-py"
  },
  "language_info": {
   "codemirror_mode": {
    "name": "ipython",
    "version": 3
   },
   "file_extension": ".py",
   "mimetype": "text/x-python",
   "name": "python",
   "nbconvert_exporter": "python",
   "pygments_lexer": "ipython3",
   "version": "3.5.5"
  }
 },
 "nbformat": 4,
 "nbformat_minor": 1
}
