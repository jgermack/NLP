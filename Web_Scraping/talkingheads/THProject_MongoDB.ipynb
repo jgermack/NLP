{
 "cells": [
  {
   "cell_type": "markdown",
   "metadata": {},
   "source": [
    "### Create MongoDB database\n",
    "MongoDB is a NOSQL database which is a perfect fit for storing and working with text.  \n",
    "It's very flexible and pretty easy to setup especially in this instance. The database  \n",
    "is going to run locally on my computer and being that I'm the only user, there's no  \n",
    "need to setup accounts and other security for this example -- this isn't unique or private data."
   ]
  },
  {
   "cell_type": "code",
   "execution_count": null,
   "metadata": {
    "collapsed": true
   },
   "outputs": [],
   "source": [
    "import pymongo\n",
    "from pymongo import MongoClient\n",
    "import json"
   ]
  },
  {
   "cell_type": "markdown",
   "metadata": {},
   "source": [
    "#### DB connection\n",
    "Using pymongo I setup a connection to the localhost. From here, I create a database  \n",
    "called \"Songs\" and a collection called \"TalkingHeads\". Collections are similar to  \n",
    "tables in SQL databases.\n",
    "\n",
    "The nice thing about MongoDB is that there isn't a need to define fields and data types  \n",
    "as one builds a database \"on the fly\" but misspellings and other errors can create maintenance  \n",
    "issues. MongoDB pretty much accepts whatever data one inserts with no warning for errors."
   ]
  },
  {
   "cell_type": "code",
   "execution_count": null,
   "metadata": {
    "collapsed": true
   },
   "outputs": [],
   "source": [
    "client = MongoClient('localhost', 27017)"
   ]
  },
  {
   "cell_type": "code",
   "execution_count": null,
   "metadata": {
    "collapsed": true
   },
   "outputs": [],
   "source": [
    "db = client.Songs\n",
    "col = db.TalkingHeads"
   ]
  },
  {
   "cell_type": "markdown",
   "metadata": {},
   "source": [
    "#### Insert data\n",
    "The JSON file is loaded and all of the documents, title and lyrics are inserted into  \n",
    "the \"TalkingHeads\" collection of the \"Songs\" database."
   ]
  },
  {
   "cell_type": "code",
   "execution_count": null,
   "metadata": {
    "collapsed": true,
    "scrolled": true
   },
   "outputs": [],
   "source": [
    "with open('C:\\\\data_mongo\\\\TH_songs.json', 'r', encoding='utf-8') as x:\n",
    "    new_data = json.load(x)"
   ]
  },
  {
   "cell_type": "code",
   "execution_count": null,
   "metadata": {
    "collapsed": true
   },
   "outputs": [],
   "source": [
    "col.insert_many(new_data)"
   ]
  },
  {
   "cell_type": "code",
   "execution_count": null,
   "metadata": {
    "collapsed": true
   },
   "outputs": [],
   "source": []
  }
 ],
 "metadata": {
  "anaconda-cloud": {},
  "kernelspec": {
   "display_name": "Python [conda root]",
   "language": "python",
   "name": "conda-root-py"
  },
  "language_info": {
   "codemirror_mode": {
    "name": "ipython",
    "version": 3
   },
   "file_extension": ".py",
   "mimetype": "text/x-python",
   "name": "python",
   "nbconvert_exporter": "python",
   "pygments_lexer": "ipython3",
   "version": "3.5.5"
  }
 },
 "nbformat": 4,
 "nbformat_minor": 2
}
